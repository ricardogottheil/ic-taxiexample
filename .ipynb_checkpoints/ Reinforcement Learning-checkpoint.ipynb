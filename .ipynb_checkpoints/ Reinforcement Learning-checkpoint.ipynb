{
 "cells": [
  {
   "cell_type": "code",
   "execution_count": 1,
   "metadata": {},
   "outputs": [],
   "source": [
    "import numpy as np # linear algebra\n",
    "import pandas as pd # data processing, CSV file I/O (e.g. pd.read_csv)\n",
    "\n",
    "import gym\n",
    "import random\n",
    "import math"
   ]
  },
  {
   "cell_type": "code",
   "execution_count": 2,
   "metadata": {},
   "outputs": [],
   "source": [
    "# Se acaba de hablar por teléfono con Uber, están teniendo algunos problemas con su nuevo auto sin conductor y quieren que lo arregles.\n",
    "\n",
    "# Hay 4 ubicaciones representadas por letras diferentes y es su trabajo recoger al pasajero en una ubicación y dejarlo en otra.\n",
    "\n",
    "# Carguemos nuestro primer entorno Taxi-v3.\n",
    "\n",
    "env = gym.make(\"Taxi-v3\")"
   ]
  },
  {
   "cell_type": "code",
   "execution_count": 3,
   "metadata": {},
   "outputs": [
    {
     "name": "stdout",
     "output_type": "stream",
     "text": [
      "+---------+\n",
      "|\u001b[34;1mR\u001b[0m: | : :G|\n",
      "| : | :\u001b[43m \u001b[0m: |\n",
      "| : : : : |\n",
      "| | : | : |\n",
      "|Y| : |\u001b[35mB\u001b[0m: |\n",
      "+---------+\n",
      "\n"
     ]
    }
   ],
   "source": [
    "# Podemos ver el estado de nuestro entorno utilizando render.\n",
    "env.reset()\n",
    "env.render()"
   ]
  },
  {
   "cell_type": "code",
   "execution_count": 4,
   "metadata": {},
   "outputs": [
    {
     "name": "stdout",
     "output_type": "stream",
     "text": [
      "+---------+\n",
      "|\u001b[35m\u001b[34;1mR\u001b[0m\u001b[0m: | : :G|\n",
      "| : | : : |\n",
      "| : :\u001b[43m \u001b[0m: : |\n",
      "| | : | : |\n",
      "|Y| : |B: |\n",
      "+---------+\n",
      "\n"
     ]
    }
   ],
   "source": [
    "# ¡Ahora podemos ver nuestro entorno! \n",
    "# El cuadrado amarillo representa el taxi \n",
    "# \"|\" representa una pared \n",
    "# La letra de color azul representa el lugar de recogida del pasajero \n",
    "# La letra de color púrpura representa el destino del pasajero \n",
    "\n",
    "# Nota El taxi se volverá verde cuando un pasajero haya sido recogido. \n",
    "# Hay seis movimientos posibles que puede tomar un taxi: Arriba 0 Abajo 1 Derecha 2 Izquierda 3 Recogida 4 Devolución 5\n",
    "\n",
    "\n",
    "# Elige un estado aleatorio y renderízalo\n",
    "env.env.s = 240\n",
    "env.render()"
   ]
  },
  {
   "cell_type": "code",
   "execution_count": 5,
   "metadata": {},
   "outputs": [
    {
     "name": "stdout",
     "output_type": "stream",
     "text": [
      "+---------+\n",
      "|\u001b[35m\u001b[34;1mR\u001b[0m\u001b[0m: | : :G|\n",
      "| : | : : |\n",
      "| :\u001b[43m \u001b[0m: : : |\n",
      "| | : | : |\n",
      "|Y| : |B: |\n",
      "+---------+\n",
      "  (West)\n"
     ]
    }
   ],
   "source": [
    "# Nos movemos a la izquierda\n",
    "env.step(3)\n",
    "env.render()"
   ]
  },
  {
   "cell_type": "code",
   "execution_count": 6,
   "metadata": {},
   "outputs": [
    {
     "name": "stdout",
     "output_type": "stream",
     "text": [
      "+---------+\n",
      "|\u001b[35m\u001b[34;1mR\u001b[0m\u001b[0m: | : :G|\n",
      "| : | : : |\n",
      "|\u001b[43m \u001b[0m: : : : |\n",
      "| | : | : |\n",
      "|Y| : |B: |\n",
      "+---------+\n",
      "  (West)\n"
     ]
    }
   ],
   "source": [
    "# Nos movemos a la izquierda\n",
    "env.step(3)\n",
    "env.render()\n"
   ]
  },
  {
   "cell_type": "code",
   "execution_count": 7,
   "metadata": {},
   "outputs": [
    {
     "name": "stdout",
     "output_type": "stream",
     "text": [
      "+---------+\n",
      "|\u001b[35m\u001b[34;1mR\u001b[0m\u001b[0m: | : :G|\n",
      "|\u001b[43m \u001b[0m: | : : |\n",
      "| : : : : |\n",
      "| | : | : |\n",
      "|Y| : |B: |\n",
      "+---------+\n",
      "  (North)\n"
     ]
    }
   ],
   "source": [
    "# Nos movemos hacia arriba\n",
    "env.step(1)\n",
    "env.render()"
   ]
  },
  {
   "cell_type": "code",
   "execution_count": 8,
   "metadata": {},
   "outputs": [
    {
     "name": "stdout",
     "output_type": "stream",
     "text": [
      "+---------+\n",
      "|\u001b[35m\u001b[34;1m\u001b[43mR\u001b[0m\u001b[0m\u001b[0m: | : :G|\n",
      "| : | : : |\n",
      "| : : : : |\n",
      "| | : | : |\n",
      "|Y| : |B: |\n",
      "+---------+\n",
      "  (North)\n"
     ]
    }
   ],
   "source": [
    "# Nos movemos hacia arriba\n",
    "env.step(1)\n",
    "env.render()"
   ]
  },
  {
   "cell_type": "code",
   "execution_count": 9,
   "metadata": {},
   "outputs": [
    {
     "name": "stdout",
     "output_type": "stream",
     "text": [
      "+---------+\n",
      "|\u001b[35m\u001b[42mR\u001b[0m\u001b[0m: | : :G|\n",
      "| : | : : |\n",
      "| : : : : |\n",
      "| | : | : |\n",
      "|Y| : |B: |\n",
      "+---------+\n",
      "  (Pickup)\n"
     ]
    }
   ],
   "source": [
    "# Recogemos al pasagero\n",
    "env.step(4)\n",
    "env.render()"
   ]
  },
  {
   "cell_type": "code",
   "execution_count": 10,
   "metadata": {},
   "outputs": [
    {
     "name": "stdout",
     "output_type": "stream",
     "text": [
      "+---------+\n",
      "|\u001b[35mR\u001b[0m: | : :G|\n",
      "|\u001b[42m_\u001b[0m: | : : |\n",
      "| : : : : |\n",
      "| | : | : |\n",
      "|Y| : |B: |\n",
      "+---------+\n",
      "  (South)\n"
     ]
    }
   ],
   "source": [
    "# Nos movemos hacia abajo\n",
    "env.step(0)\n",
    "env.render()"
   ]
  },
  {
   "cell_type": "code",
   "execution_count": 11,
   "metadata": {},
   "outputs": [
    {
     "name": "stdout",
     "output_type": "stream",
     "text": [
      "+---------+\n",
      "|\u001b[35m\u001b[42mR\u001b[0m\u001b[0m: | : :G|\n",
      "| : | : : |\n",
      "| : : : : |\n",
      "| | : | : |\n",
      "|Y| : |B: |\n",
      "+---------+\n",
      "  (North)\n"
     ]
    }
   ],
   "source": [
    "# Nos movemos hacia arriba\n",
    "env.step(1)\n",
    "env.render()"
   ]
  },
  {
   "cell_type": "code",
   "execution_count": 12,
   "metadata": {},
   "outputs": [
    {
     "name": "stdout",
     "output_type": "stream",
     "text": [
      "state: 0\n",
      "reward: 20\n",
      "done: True\n",
      "info: {'prob': 1.0}\n"
     ]
    }
   ],
   "source": [
    "# Estos resultados son el 'pan de cada día' del estado de aprendizaje de refuerzo. \n",
    "# Situación actual del agente en el entorno. \n",
    "# Recompensa. Comentarios de una acción realizada por el agente en el entorno. \n",
    "# Listo - Booleano que indica si el agente ha finalizado o completado su información del entorno. \n",
    "# Diagnóstico. información sobre la última acción de los agentes. \n",
    "\n",
    "# Recibe +20 puntos por una entrega exitosa y pierde 1 punto por cada paso de tiempo que tome. \n",
    "# También hay una penalización de 10 puntos por acciones ilegales de recogida y devolución.\n",
    "\n",
    "#Dejamos el pasajero \n",
    "\n",
    "state, reward, done, info = env.step(5)\n",
    "print('state: {}'.format(state))\n",
    "print('reward: {}'.format(reward))\n",
    "print('done: {}'.format(done))\n",
    "print('info: {}'.format(info))"
   ]
  },
  {
   "cell_type": "code",
   "execution_count": 47,
   "metadata": {},
   "outputs": [
    {
     "name": "stdout",
     "output_type": "stream",
     "text": [
      "La conducción aleatoria tomó 2117 pasos para completar un viaje\n"
     ]
    }
   ],
   "source": [
    "#La recompensa es fácil de malinterpretar, normalmente es positiva, sin embargo, en el aprendizaje por refuerzo puede ser positiva o negativa.\n",
    "\n",
    "#Positivo\n",
    "\n",
    "# - El agente recibe +20 puntos por una entrega exitosa\n",
    "\n",
    "\n",
    "#Negativo\n",
    "\n",
    "# - El agente recibe -10 puntos por cada error que comete al recoger o dejar a un pasajero\n",
    "# - El agente recibe -1 punto por cada paso que realiza.\n",
    "\n",
    "\n",
    "# Cada respiro que tomas\n",
    "\n",
    "# Cada movimiento que haces\n",
    "\n",
    "# Cada vínculo que rompas\n",
    "\n",
    "# Cada paso que das\n",
    "\n",
    "# Te miraré recompensándote (con -1)\n",
    "\n",
    "# La razón por la que damos una recompensa negativa en cada turno, básicamente obliga al agente a encontrar la solución más rápida posible.\n",
    "\n",
    "# ¿Ahora que?\n",
    "\n",
    "# Bueno, tenemos el agente, el entorno y las recompensas. Vamos a explorar.\n",
    "\n",
    "# Cuando construimos cualquier modelo de aprendizaje automático, queremos comenzar de manera simple.\n",
    "\n",
    "# Sabemos que nuestro objetivo es recoger y llevar a nuestro pasajero a su destino, seleccionemos acciones aleatorias hasta que lo hagamos bien.\n",
    "\n",
    "# Use env.action_space.sample () para realizar acciones aleatorias hasta que tenga un viaje exitoso.\n",
    "\n",
    "# Piense cómo se recompensa un viaje exitoso.\n",
    "\n",
    "\n",
    "state = env.reset()\n",
    "reward = None\n",
    "steps = 0\n",
    "\n",
    "while reward != 20:\n",
    "    state, reward, done, info = env.step(env.action_space.sample())\n",
    "    steps += 1\n",
    "\n",
    "print('La conducción aleatoria tomó {} pasos para completar un viaje'.format(steps))"
   ]
  },
  {
   "cell_type": "code",
   "execution_count": 64,
   "metadata": {},
   "outputs": [
    {
     "data": {
      "image/png": "[encoded data removed]",
      "text/plain": [
       "<Figure size 432x288 with 1 Axes>"
      ]
     },
     "metadata": {
      "needs_background": "light"
     },
     "output_type": "display_data"
    },
    {
     "name": "stdout",
     "output_type": "stream",
     "text": [
      "Número promedio de pasos para una unidad aleatoria 2270.5510204081634\n"
     ]
    }
   ],
   "source": [
    "# Ejecútelo unas cuantas veces más y vea cuánto tarda.\n",
    "\n",
    "random_driving_store = []\n",
    "for i in range(1,50):\n",
    "    state = env.reset()\n",
    "    reward = None\n",
    "    steps = 0\n",
    "\n",
    "    while reward != 20:\n",
    "        state, reward, done, info = env.step(env.action_space.sample())\n",
    "        steps += 1\n",
    "\n",
    "    random_driving_store.append(steps)\n",
    "    \n",
    "from matplotlib import pyplot as plt\n",
    "import numpy as np\n",
    "\n",
    "plt.figure()\n",
    "plt.hlines(0.5,0.5,2)  # Draw a horizontal line\n",
    "plt.eventplot(random_driving_store, orientation='horizontal', colors='k')\n",
    "\n",
    "plt.show()\n",
    "print('Número promedio de pasos para una unidad aleatoria {}'.format(np.mean(random_driving_store)))"
   ]
  },
  {
   "cell_type": "code",
   "execution_count": 61,
   "metadata": {},
   "outputs": [
    {
     "name": "stdout",
     "output_type": "stream",
     "text": [
      "number of possible states: 500\n",
      "number of possible actions: 6\n"
     ]
    }
   ],
   "source": [
    "# No hay sorpresas aquí, asignar una acción aleatoria no llevará a nuestro taxi a ninguna parte.\n",
    "\n",
    "# Necesitamos una forma para que nuestro agente aprenda a maniobrar en las calles del gimnasio. Intentemos construir una Q-table.\n",
    "\n",
    "# Piense en una tabla Q inicialmente como un mapa en blanco del entorno. Su agente navegará por el espacio y actualizará la tabla con todo lo que encuentre interesante.\n",
    "\n",
    "# Con cada iteración, el agente obtiene cada vez más información sobre el entorno. En poco tiempo, su agente está zumbando por el medio ambiente.\n",
    "\n",
    "\n",
    "# La tabla Q se compone de filas iguales al número de estados y columnas iguales al número de acciones.\n",
    "\n",
    "# El valor en la celda indica la recompensa esperada para una acción dado ese estado.\n",
    "\n",
    "# Construyamos nuestra Q-table \n",
    "\n",
    "state_size = env.observation_space.n\n",
    "action_size = env.action_space.n\n",
    "\n",
    "print('number of possible states: {}'.format(state_size))\n",
    "print('number of possible actions: {}'.format(action_size))"
   ]
  },
  {
   "cell_type": "code",
   "execution_count": 75,
   "metadata": {},
   "outputs": [
    {
     "data": {
      "text/plain": [
       "array([[0., 0., 0., 0., 0., 0.],\n",
       "       [0., 0., 0., 0., 0., 0.],\n",
       "       [0., 0., 0., 0., 0., 0.],\n",
       "       ...,\n",
       "       [0., 0., 0., 0., 0., 0.],\n",
       "       [0., 0., 0., 0., 0., 0.],\n",
       "       [0., 0., 0., 0., 0., 0.]])"
      ]
     },
     "execution_count": 75,
     "metadata": {},
     "output_type": "execute_result"
    }
   ],
   "source": [
    "# Ahora tenemos las dimensiones de nuestra tabla Q, inicialicemos nuestra tabla Q como un lienzo en blanco (todos ceros)\n",
    "\n",
    "Q = np.zeros([state_size, action_size])\n",
    "Q"
   ]
  },
  {
   "cell_type": "code",
   "execution_count": 66,
   "metadata": {},
   "outputs": [],
   "source": [
    "total_reward = 0\n",
    "learning_rate = 0.7"
   ]
  },
  {
   "cell_type": "code",
   "execution_count": 98,
   "metadata": {},
   "outputs": [
    {
     "name": "stdout",
     "output_type": "stream",
     "text": [
      "Total reward for this episode: -496\n"
     ]
    }
   ],
   "source": [
    "done = False\n",
    "total_reward, reward = 1,0\n",
    "state = env.reset()\n",
    "while done != True: # Keeps making actions until episode completes\n",
    "        action = np.argmax(Q[state]) # Finds the action with the greatest reward. TIP each state is a row in the Q-table, find the best action at this state by finding the max value\n",
    "        new_state, reward, done, info = env.step(action) #Takes the action with the greatest reward\n",
    "        Q[state, action] += learning_rate * (reward + np.max(Q[new_state]) - Q[state, action]) # Updates our Q-table based on the state and actions. TIP If your stuck have a look at this pseudo code below\n",
    "        total_reward += reward # Update our total reward\n",
    "        state = new_state # Update our current state\n",
    "#         env.render() # Print the current agent-environment interaction\n",
    "print('Total reward for this episode: {}'.format(total_reward))\n",
    "\n",
    "\n",
    "# New Q value = Current Q value + learning rate * (Reward + (maximum value of new state) — Current Q value )"
   ]
  },
  {
   "cell_type": "code",
   "execution_count": 73,
   "metadata": {},
   "outputs": [
    {
     "name": "stdout",
     "output_type": "stream",
     "text": [
      "Episode 50 Total Reward: -22\n",
      "Episode 100 Total Reward: -323\n",
      "Episode 150 Total Reward: -54\n",
      "Episode 200 Total Reward: 13\n",
      "Episode 250 Total Reward: 12\n",
      "Episode 300 Total Reward: 11\n",
      "Episode 350 Total Reward: 7\n",
      "Episode 400 Total Reward: 8\n",
      "Episode 450 Total Reward: 8\n",
      "Episode 500 Total Reward: 4\n",
      "Episode 550 Total Reward: 8\n",
      "Episode 600 Total Reward: 14\n",
      "Episode 650 Total Reward: 5\n",
      "Episode 700 Total Reward: 10\n",
      "Episode 750 Total Reward: 9\n",
      "Episode 800 Total Reward: 0\n",
      "Episode 850 Total Reward: 7\n",
      "Episode 900 Total Reward: 7\n",
      "Episode 950 Total Reward: 6\n",
      "Episode 1000 Total Reward: 3\n",
      "Episode 1050 Total Reward: 7\n",
      "Episode 1100 Total Reward: 5\n",
      "Episode 1150 Total Reward: 5\n",
      "Episode 1200 Total Reward: 12\n",
      "Episode 1250 Total Reward: 6\n",
      "Episode 1300 Total Reward: 7\n",
      "Episode 1350 Total Reward: 10\n",
      "Episode 1400 Total Reward: 4\n",
      "Episode 1450 Total Reward: 10\n",
      "Episode 1500 Total Reward: 8\n",
      "Episode 1550 Total Reward: 7\n",
      "Episode 1600 Total Reward: 11\n",
      "Episode 1650 Total Reward: 5\n",
      "Episode 1700 Total Reward: 5\n",
      "Episode 1750 Total Reward: 9\n",
      "Episode 1800 Total Reward: 7\n",
      "Episode 1850 Total Reward: 7\n",
      "Episode 1900 Total Reward: 10\n",
      "Episode 1950 Total Reward: 10\n",
      "Episode 2000 Total Reward: 8\n"
     ]
    }
   ],
   "source": [
    "Q = np.zeros([state_size, action_size])\n",
    "\n",
    "total_reward = 0\n",
    "learning_rate = 0.7\n",
    "\n",
    "for episode in range(1,2001):\n",
    "    done = False\n",
    "    total_reward, reward = 0,0\n",
    "    state = env.reset()\n",
    "    while done != True:\n",
    "        action = np.argmax(Q[state])\n",
    "        new_state, reward, done, info = env.step(action)\n",
    "        Q[state, action] += learning_rate * (reward + np.max(Q[new_state]) - Q[state, action])\n",
    "        total_reward += reward\n",
    "        state = new_state   \n",
    "    if episode % 50 == 0:\n",
    "        print('Episode {} Total Reward: {}'.format(episode, total_reward))"
   ]
  },
  {
   "cell_type": "code",
   "execution_count": null,
   "metadata": {},
   "outputs": [],
   "source": []
  }
 ],
 "metadata": {
  "kernelspec": {
   "display_name": "Python 3",
   "language": "python",
   "name": "python3"
  },
  "language_info": {
   "codemirror_mode": {
    "name": "ipython",
    "version": 3
   },
   "file_extension": ".py",
   "mimetype": "text/x-python",
   "name": "python",
   "nbconvert_exporter": "python",
   "pygments_lexer": "ipython3",
   "version": "3.7.6"
  }
 },
 "nbformat": 4,
 "nbformat_minor": 4
}
